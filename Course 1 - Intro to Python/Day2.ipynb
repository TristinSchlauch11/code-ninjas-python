{
  "nbformat": 4,
  "nbformat_minor": 0,
  "metadata": {
    "colab": {
      "provenance": []
    },
    "kernelspec": {
      "name": "python3",
      "display_name": "Python 3"
    },
    "language_info": {
      "name": "python"
    }
  },
  "cells": [
    {
      "cell_type": "markdown",
      "source": [
        "# **Boolean Logic**: True and False, number comparisons, connectors, and if-elif-else statements"
      ],
      "metadata": {
        "id": "ymAvFjCtqjkf"
      }
    },
    {
      "cell_type": "markdown",
      "source": [
        "### ***Introduction to Booleans***\n",
        "\n",
        "Welcome to day 2 of Intro to Python. Today, we're going to be starting with a special type of data in Python called a **Boolean**. A Boolean is used to show if something is True or False."
      ],
      "metadata": {
        "id": "jlW5FtrxqzyX"
      }
    },
    {
      "cell_type": "code",
      "execution_count": null,
      "metadata": {
        "colab": {
          "base_uri": "https://localhost:8080/"
        },
        "id": "ke7bJn5rqSBH",
        "outputId": "cfdfcd31-88da-45fe-e620-da7a54fe591c"
      },
      "outputs": [
        {
          "output_type": "execute_result",
          "data": {
            "text/plain": [
              "True"
            ]
          },
          "metadata": {},
          "execution_count": 1
        }
      ],
      "source": [
        "3 > 1"
      ]
    },
    {
      "cell_type": "markdown",
      "source": [
        "Something important to remember is that **Booleans can only be either *True* or *False***, nothing else! You can also print Booleans to the screen by using a *print* statement."
      ],
      "metadata": {
        "id": "aSWwEX2ysPKV"
      }
    },
    {
      "cell_type": "code",
      "source": [
        "print(1 < 3)\n",
        "\n",
        "# if we set a = 5, is x < 6?\n",
        "a = 5\n",
        "print(a < 6)"
      ],
      "metadata": {
        "colab": {
          "base_uri": "https://localhost:8080/"
        },
        "id": "XVHrWgT1szYM",
        "outputId": "43d1e590-a730-48aa-a5fb-095fb1e391a2"
      },
      "execution_count": null,
      "outputs": [
        {
          "output_type": "stream",
          "name": "stdout",
          "text": [
            "True\n",
            "True\n"
          ]
        }
      ]
    },
    {
      "cell_type": "markdown",
      "source": [
        "As you may have seen, we can compare numbers, as well as variables that store numbers using the following operators:\n",
        "\n",
        "* \\> -- greater than\n",
        "* < -- less than\n",
        "* == -- equal to\n",
        "* != -- not equal to\n",
        "* \\>= -- greater than or equal to\n",
        "* <= -- less than or equal to\n",
        "\n",
        "The most important one to remember is the **equal to (==)** operator. Why can't we just use the equals sign (=)?"
      ],
      "metadata": {
        "id": "lbCYAF5OtZT1"
      }
    },
    {
      "cell_type": "code",
      "source": [
        "print(\"1.\", 7 > 5)\n",
        "print(\"2.\", 7 < 5)\n",
        "print(\"3.\", 7 == 5)\n",
        "print(\"4.\", 7 != 5)\n",
        "print(\"5.\", 7 >= 5)\n",
        "print(\"6.\", 7 >= 7)\n",
        "print(\"7.\", 7 <= 5)"
      ],
      "metadata": {
        "colab": {
          "base_uri": "https://localhost:8080/"
        },
        "id": "UHThocF8uOcp",
        "outputId": "87063e3a-e218-4525-86df-def3e5cb0e1c"
      },
      "execution_count": null,
      "outputs": [
        {
          "output_type": "stream",
          "name": "stdout",
          "text": [
            "1. True\n",
            "2. False\n",
            "3. False\n",
            "4. True\n",
            "5. True\n",
            "6. True\n",
            "7. False\n"
          ]
        }
      ]
    },
    {
      "cell_type": "markdown",
      "source": [
        "In the code below, we assign a variable 'x' to a number. Can you change the number that we assign the variable to so that ALL the Booleans are True? There's only one number that works!"
      ],
      "metadata": {
        "id": "_uLG3hYwvgVr"
      }
    },
    {
      "cell_type": "code",
      "source": [
        "# change ONLY the value of x\n",
        "x = 5\n",
        "\n",
        "print(x < 12)\n",
        "print(x > 9)\n",
        "print(x != 10)"
      ],
      "metadata": {
        "colab": {
          "base_uri": "https://localhost:8080/"
        },
        "id": "ckaIVooCuuP9",
        "outputId": "c9fa52e9-b93b-48a8-be47-7fc85ed84d8c"
      },
      "execution_count": null,
      "outputs": [
        {
          "output_type": "stream",
          "name": "stdout",
          "text": [
            "True\n",
            "False\n",
            "True\n"
          ]
        }
      ]
    },
    {
      "cell_type": "markdown",
      "source": [
        "### ***Connectors: and, or, not***\n",
        "\n",
        "We can also combine operations together by using the words **and** and **or**.\n",
        "\n",
        "* When two comparisons are combined with **and**, the whole comparison is True only if *both* comparisons are True.\n",
        "* When two comparisons are combined with **or**, the whole comparison is True only if *at least one* comparison is True."
      ],
      "metadata": {
        "id": "ScB00bO-yhbj"
      }
    },
    {
      "cell_type": "code",
      "source": [
        "n = 25\n",
        "\n",
        "print(\"1.\", n < 20 and n > 30)\n",
        "print(\"2.\", n > 20 and n == 30)\n",
        "print(\"3.\", n > 20 and n < 30)\n",
        "print(\"4.\", n < 20 or n == 30)\n",
        "print(\"5.\", n < 20 or n == 25)\n",
        "print(\"6.\", n > 20 or n == 25)"
      ],
      "metadata": {
        "colab": {
          "base_uri": "https://localhost:8080/"
        },
        "id": "2k21IDn4zmo2",
        "outputId": "17e397d9-f400-4edb-c8ed-58d27c665585"
      },
      "execution_count": null,
      "outputs": [
        {
          "output_type": "stream",
          "name": "stdout",
          "text": [
            "1. False\n",
            "2. False\n",
            "3. True\n",
            "4. False\n",
            "5. True\n",
            "6. True\n"
          ]
        }
      ]
    },
    {
      "cell_type": "markdown",
      "source": [
        "In the code below, can you change the value of 'y' so that all the Booleans are True? There's only one answer!"
      ],
      "metadata": {
        "id": "p8V7Eg5i0s6Q"
      }
    },
    {
      "cell_type": "code",
      "source": [
        "# change ONLY the value of y\n",
        "y = 15\n",
        "\n",
        "print(y > 10 and y < 20)\n",
        "print(y == 13 or y > 15)\n",
        "print(y > 17 and y != 18)"
      ],
      "metadata": {
        "colab": {
          "base_uri": "https://localhost:8080/"
        },
        "id": "eQDtI2SX0slA",
        "outputId": "7e7e6cc5-511b-48d4-e513-a3f231c20335"
      },
      "execution_count": null,
      "outputs": [
        {
          "output_type": "stream",
          "name": "stdout",
          "text": [
            "True\n",
            "False\n",
            "False\n"
          ]
        }
      ]
    },
    {
      "cell_type": "markdown",
      "source": [
        "We can also use the word **not** to change True to False, and False to True"
      ],
      "metadata": {
        "id": "ulZEm6Dz3DSh"
      }
    },
    {
      "cell_type": "code",
      "source": [
        "print(not True)\n",
        "\n",
        "num = 8\n",
        "print(num > 10)\n",
        "print(not num > 10)"
      ],
      "metadata": {
        "colab": {
          "base_uri": "https://localhost:8080/"
        },
        "id": "9H0jSdLs3CJn",
        "outputId": "2bad0656-267f-4015-8916-bdaccdfa5d42"
      },
      "execution_count": null,
      "outputs": [
        {
          "output_type": "stream",
          "name": "stdout",
          "text": [
            "False\n",
            "False\n",
            "True\n"
          ]
        }
      ]
    },
    {
      "cell_type": "markdown",
      "source": [
        "### ***if-elif-else Statements***\n",
        "\n",
        "Booleans are usually used to control if certain things happen depending on if the Booleans are True or False. An **if statement** is used to run a section of code only if the *condition* is True. Here's how we write an if statement:\n",
        "\n",
        "\n",
        "```\n",
        "if condition:\n",
        "  # code to run if condition is True\n",
        "  # more code if condition is True\n",
        "```\n",
        "\n",
        "For the if-statement, we need:\n",
        "* the word \"if\",\n",
        "* a Boolean condition that checks if something is True or False,\n",
        "* a colon (:) after the Boolean condition, and\n",
        "* the code that we want to run if the condition is True."
      ],
      "metadata": {
        "id": "AykyITZH3ocJ"
      }
    },
    {
      "cell_type": "code",
      "source": [
        "score = 1500\n",
        "\n",
        "if score > 1000:\n",
        "  print(\"You won!\")\n",
        "\n",
        "if score > 2000:\n",
        "  print(\"You're a master!\")"
      ],
      "metadata": {
        "colab": {
          "base_uri": "https://localhost:8080/"
        },
        "id": "5ihDzrEuA8uv",
        "outputId": "d6275980-f9fd-456c-b15b-447c3ce140b7"
      },
      "execution_count": null,
      "outputs": [
        {
          "output_type": "stream",
          "name": "stdout",
          "text": [
            "You won!\n"
          ]
        }
      ]
    },
    {
      "cell_type": "markdown",
      "source": [
        "It is important to remember that whenever we use an if-statement, we need to **intdent** the code that we want to run if the condition is True. To indent our code, go to the front of the line that you need to indent and press the 'Tab' button (ask if you need help)!\n",
        "\n",
        "In the code below, the if-statement doesn't work right! Can you fix it?"
      ],
      "metadata": {
        "id": "CZd1UdbdCCS-"
      }
    },
    {
      "cell_type": "code",
      "source": [
        "dice_roll = 2\n",
        "\n",
        "if dice_roll < 5:\n",
        "print(\"You got eaten by the monster!\")"
      ],
      "metadata": {
        "colab": {
          "base_uri": "https://localhost:8080/",
          "height": 106
        },
        "id": "8LfQhNqhF7GT",
        "outputId": "4a3e23ab-c6c9-44c9-c34f-0f9975c700da"
      },
      "execution_count": null,
      "outputs": [
        {
          "output_type": "error",
          "ename": "IndentationError",
          "evalue": "expected an indented block after 'if' statement on line 3 (ipython-input-3656746918.py, line 4)",
          "traceback": [
            "\u001b[0;36m  File \u001b[0;32m\"/tmp/ipython-input-3656746918.py\"\u001b[0;36m, line \u001b[0;32m4\u001b[0m\n\u001b[0;31m    print(\"You got eaten by the monster!\")\u001b[0m\n\u001b[0m    ^\u001b[0m\n\u001b[0;31mIndentationError\u001b[0m\u001b[0;31m:\u001b[0m expected an indented block after 'if' statement on line 3\n"
          ]
        }
      ]
    },
    {
      "cell_type": "markdown",
      "source": [
        "If we want to do something *else* if the Boolean condition in the if-statement is False instead of True, we use something called an **else statement**. It goes *below* the if-statement and has this format:\n",
        "\n",
        "```\n",
        "if condition:\n",
        "  # code to run if condition is True\n",
        "else:\n",
        "  # code to run if condition is False\n",
        "```\n",
        "\n",
        "In the else statement, we need:\n",
        "* the word \"else\",\n",
        "* a colon, and\n",
        "* the code to run if the condition is False\n",
        "\n",
        "This code also needs to be indented away from the rest of the code like it does in the if-statement.\n",
        "\n",
        "In the code below, the program checks to see if the number of tokens that the player collected is 10 or more. If they did collect 10 or more tokens, the program prints \"You win!\". Now, add an else statement to the code to print \"You lose!\" if the player did not collect 10 or more tokens."
      ],
      "metadata": {
        "id": "E7mimKsbHV88"
      }
    },
    {
      "cell_type": "code",
      "source": [
        "tokens_collected = 7\n",
        "\n",
        "if tokens_collected >= 10:\n",
        "  print(\"You win!\")"
      ],
      "metadata": {
        "id": "8gP57L0UndA-"
      },
      "execution_count": null,
      "outputs": []
    },
    {
      "cell_type": "markdown",
      "source": [
        "Finally, if the Boolean condition in the if-statement is False, but we want to check if a *different* condition is True instead, we use an **elif**-statement. An elif-statement (short for \"else if\") is basically another if-statement that goes *below* the first if-statement. We can use an elif-statement to run a different section of code if a different Boolean condition is True. It has the following format:\n",
        "\n",
        "```\n",
        "if condition1:\n",
        "  # code to run if condition1 is True\n",
        "elif condition2:\n",
        "  # code to run if condition1 is False and condition2 is True\n",
        "```\n",
        "\n",
        "In the else statement, we need:\n",
        "* the word \"elif\",\n",
        "* a new Boolean condition that checks if something is True or False,\n",
        "* a colon, and\n",
        "* the code to run if the new condition is True\n",
        "\n",
        "Like an if and else statement, the code that runs if the new condition is True must also be indented away from the rest of the code.\n",
        "\n",
        "A couple of interesting things to know about elif-statements:\n",
        "* You can have as many elif-statements after an if-statement as you want\n",
        "* After all of your elif statements, you can also have an else-statement that will run only if ALL of the if and elif-statements are False\n",
        "* As soon as one Boolean condition in an if or elif-statement is True, all of the other ones are skipped!\n",
        "\n",
        "In the code below, try changing the value of the variable 'z' so that you collect all four Pokemon!"
      ],
      "metadata": {
        "id": "Wg8PUQEZnnp3"
      }
    },
    {
      "cell_type": "code",
      "source": [
        "# change ONLY the value of z\n",
        "z = 0\n",
        "\n",
        "if z < 0 or z > 10:\n",
        "  print(\"You collected Pikachu!\")\n",
        "elif z > 5:\n",
        "  print(\"You collected Squirtle!\")\n",
        "elif z < 5 and z > 2:\n",
        "  print(\"You collected Bulbasaur!\")\n",
        "elif z == 0:\n",
        "  print(\"Start collecting Pokemon!\")\n",
        "else:\n",
        "  print(\"You collected Charizard!\")"
      ],
      "metadata": {
        "colab": {
          "base_uri": "https://localhost:8080/"
        },
        "id": "QPF9-3S6nnVT",
        "outputId": "0090d5b0-ee27-4fea-9d46-8c376883f945"
      },
      "execution_count": null,
      "outputs": [
        {
          "output_type": "stream",
          "name": "stdout",
          "text": [
            "Start collecting Pokemon!\n"
          ]
        }
      ]
    },
    {
      "cell_type": "markdown",
      "source": [
        "### **Use your skills!**\n",
        "\n",
        "Now, let's write our own if-elif-else statements. In the code below, you have been given a life variable and score variable. Your job is to create an if-elif-else statement that checks to see if the player won the game!\n",
        "\n",
        "* First, check if the player has no lives left. If they don't have any lives left, print \"Out of lives. You lose.\" to the screen.\n",
        "* Next, if the player does have lives left, check if the player's score is bigger than or equal to 1000. If it is bigger than or equal to 1000, print \"You win!\" to the screen.\n",
        "* Finally, if none of these conditions are True, print \"You lose.\" to the screen"
      ],
      "metadata": {
        "id": "n1lHpuEnu4a-"
      }
    },
    {
      "cell_type": "code",
      "source": [
        "# these are your score and life variables\n",
        "# you can change their values if you want to check your if-elif-else statement\n",
        "lives = 2\n",
        "score = 900\n",
        "\n",
        "# make your if-elif-else statement here!\n",
        "# check the format of these statements if you can't remember them!\n"
      ],
      "metadata": {
        "id": "kEEYMFQOvyvl"
      },
      "execution_count": null,
      "outputs": []
    },
    {
      "cell_type": "markdown",
      "source": [
        "Now, let's do a simple if-else statement that still checks if the player won. They will still have the same winning conditions:\n",
        "\n",
        "If the player has at least one life left and they scored at least 1000 points, they won the game! Otherwise, they lost."
      ],
      "metadata": {
        "id": "neonFNDSwaYj"
      }
    },
    {
      "cell_type": "code",
      "source": [
        "# these are your score and life variables\n",
        "# you can change their values if you want to check your if-else statement\n",
        "lives = 2\n",
        "score = 900\n",
        "\n",
        "# make your if-else statement here!\n",
        "# check the format of these statements if you can't remember them!\n",
        "# HINT: Your Boolean condition will need one of the 3 words we learned about\n"
      ],
      "metadata": {
        "id": "S-XQxe46xRID"
      },
      "execution_count": null,
      "outputs": []
    },
    {
      "cell_type": "markdown",
      "source": [
        "# **Lists**: List basics, list functions, and *in*"
      ],
      "metadata": {
        "id": "rjz5zDbiI94C"
      }
    },
    {
      "cell_type": "markdown",
      "source": [
        "### ***What are lists?***\n",
        "\n",
        "**Lists** are like containers that we can use to store a bunch of values and variables together. This collection of values and variables are called **elements** of the list. When you're making a list, make sure you remember these important things:\n",
        "\n",
        "* The list must be wrapped with two [square brackets]\n",
        "* All elements in the list must be separated [\"with\", \"a\", \"comma\"]\n",
        "* You can store anything in a list! You can store strings, integers, Booleans, and even other lists!\n",
        "\n",
        "Below are some examples of lists:"
      ],
      "metadata": {
        "id": "UlJcqtcRxiPR"
      }
    },
    {
      "cell_type": "code",
      "source": [
        "# this is what we call an 'empty list'\n",
        "# it is a list that has no elements in it\n",
        "empty_list = []\n",
        "\n",
        "# here is a list of numbers\n",
        "num_list = [2, 3, 5, 7, 11, 13]\n",
        "\n",
        "# here is a list of strings\n",
        "str_list = [\"This\", \"is\", \"a\", \"list\"]\n",
        "\n",
        "# and here is a mixed list!\n",
        "mix_list = [\"Python\", 0, \"CodeNinjas\", True, \"sensei\", 11, [False, -1]]"
      ],
      "metadata": {
        "id": "jFIi2kOKK33f"
      },
      "execution_count": null,
      "outputs": []
    },
    {
      "cell_type": "markdown",
      "source": [
        "### ***List Functions***\n",
        "\n",
        "There's some things that we can do with lists that make them easy to use!\n",
        "\n",
        "1. We can check how many elements are in a list by using the **len** function. To check the length of a list, put the list's name inside of the brackets of the len function like this:\n",
        "\n",
        "```\n",
        "len(list_name)\n",
        "```\n",
        "\n",
        "In the code below, your mom gave you a list of chores to do. Use the len function to check how many chores you have."
      ],
      "metadata": {
        "id": "QYPAv05dM3bN"
      }
    },
    {
      "cell_type": "code",
      "source": [
        "chores = [\"dusting\", \"clean room\", \"vacuum\"]\n",
        "\n",
        "# check how many chores we need to do\n"
      ],
      "metadata": {
        "id": "9ix2ZJoqVVrH"
      },
      "execution_count": null,
      "outputs": []
    },
    {
      "cell_type": "markdown",
      "source": [
        "2. To add something to a list, we use the **append** function. To use the append function, we use the list name, then a dot (.), then, inside the brackets of the function, write the element that we want to add. The format looks like this:\n",
        "\n",
        "```\n",
        "list_name.append(item_to_add)\n",
        "```\n",
        "\n",
        "Whoops! You got in trouble and your mom gave you another chore. Use the append function to add 'dishes' to the 'chores' list."
      ],
      "metadata": {
        "id": "f2PmJLv2WHpF"
      }
    },
    {
      "cell_type": "code",
      "source": [
        "# add 'dishes' to the chores list here\n",
        "\n",
        "# check to see if 'dishes' actually got added\n",
        "print(chores)"
      ],
      "metadata": {
        "id": "JNZMLScNXQrR"
      },
      "execution_count": null,
      "outputs": []
    },
    {
      "cell_type": "markdown",
      "source": [
        "3. To remove something from a list, we use the **remove** function. To use the remove function, we use the list name, then a dot (.), then, inside the brackets of the function, write the element that we want to remove. But, if the element we want to remove is not actually in the list, we will get an error. The format looks like this:\n",
        "\n",
        "```\n",
        "list_name.remove(item_to_remove)\n",
        "```\n",
        "\n",
        "You finished the dusting. Use the remove function to remove 'dusting' from the 'chores' list."
      ],
      "metadata": {
        "id": "b01IRJrrXjgV"
      }
    },
    {
      "cell_type": "code",
      "source": [
        "# remove 'dusting' from the chores list here\n",
        "\n",
        "\n",
        "# check to see if dusting actually got removed\n",
        "print(chores)"
      ],
      "metadata": {
        "colab": {
          "base_uri": "https://localhost:8080/"
        },
        "id": "u0VoYc84YJ3N",
        "outputId": "054eb751-dab2-4b08-c5c6-12acec2f7de1"
      },
      "execution_count": null,
      "outputs": [
        {
          "output_type": "execute_result",
          "data": {
            "text/plain": [
              "['clean room', 'vacuum']"
            ]
          },
          "metadata": {},
          "execution_count": 5
        }
      ]
    },
    {
      "cell_type": "markdown",
      "source": [
        "4. You can check if a specific value is in a list by using the **in** function. This function is a little bit easier to use. To use it, type:\n",
        "\n",
        "* the value you want to look for, then\n",
        "* the word in, then\n",
        "* the name of the list\n",
        "\n",
        "It has this format:\n",
        "\n",
        "```\n",
        "value in list_name\n",
        "```\n",
        "\n",
        "It will return a Boolean value of True if the value *is* in the list, and False if it isn't in the list. You can also check if something is NOT in a list by using the words \"not in\" instead of \"in\":\n",
        "\n",
        "```\n",
        "value not in list_name\n",
        "```\n",
        "\n",
        "You can't remember if you need to mop the floors today. Use the in function to check if 'mopping' is in your chores list."
      ],
      "metadata": {
        "id": "tgXrJzq5YJpp"
      }
    },
    {
      "cell_type": "code",
      "source": [
        "# check if 'mopping' is in your chores list\n"
      ],
      "metadata": {
        "id": "dzYUvxewbMGX"
      },
      "execution_count": null,
      "outputs": []
    },
    {
      "cell_type": "markdown",
      "source": [
        "5. You can get elements that are in a *specific position* in your list by using something called **list indexing**. To index a list, you need to use the list name, square brackets, and the position of the element that you want to select.\n",
        "\n",
        "```\n",
        "list_name[index]\n",
        "```\n",
        "\n",
        "However, the positions of elements in a list can be a little bit tricky. Computers start counting from 0, so the 1st element in a list has an index of 0. The 2nd element in a list has an index of 1, the 3rd element has an index of 2, and so on.\n",
        "\n",
        "```\n",
        "# positions: [1, 2, 3, 4, 5, ...]\n",
        "              ^  ^  ^  ^  ^  \n",
        "# indexes  : [0, 1, 2, 3, 4, ...]\n",
        "```\n",
        "\n",
        "Now, you are trying to remember what your second chore was. Use list indexing to find out what element is second in your 'chores' list."
      ],
      "metadata": {
        "id": "7Wp4TR6S13oM"
      }
    },
    {
      "cell_type": "code",
      "source": [
        "# what is your second chore?\n",
        "# HINT: remember, if we want the 2nd item, what index should we use?\n"
      ],
      "metadata": {
        "id": "KOL-N4zr4ECM"
      },
      "execution_count": null,
      "outputs": []
    },
    {
      "cell_type": "markdown",
      "source": [
        "Now, it is time to move onto our second project, Rock-Paper-Scissors!"
      ],
      "metadata": {
        "id": "vEX9K5z54tDu"
      }
    }
  ]
}