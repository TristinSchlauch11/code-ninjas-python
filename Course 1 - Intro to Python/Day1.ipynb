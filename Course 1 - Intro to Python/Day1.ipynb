{
  "nbformat": 4,
  "nbformat_minor": 0,
  "metadata": {
    "colab": {
      "provenance": []
    },
    "kernelspec": {
      "name": "python3",
      "display_name": "Python 3"
    },
    "language_info": {
      "name": "python"
    }
  },
  "cells": [
    {
      "cell_type": "markdown",
      "source": [
        "# **Python Basics:** Strings, Integers and the **print** statement"
      ],
      "metadata": {
        "id": "A8Bk2Rkc9lxX"
      }
    },
    {
      "cell_type": "markdown",
      "source": [
        "### ***Hello, World!***"
      ],
      "metadata": {
        "id": "5FRqIi3cyqK9"
      }
    },
    {
      "cell_type": "markdown",
      "source": [
        "Welcome to Intro to Python! First, we're going to start off with learning how to print words on the screen.\n",
        "\n",
        "To print something onto the screen, we need to use the **print** function.\n",
        "\n",
        "\n",
        "*   Put the words that you want to print inside of the brackets of the print function\n",
        "*   Make sure to wrap the words in \"quotation marks\"\n",
        "\n",
        "Check out the print statements below! Try changing the words inside the brackets to print different messages.\n",
        "\n"
      ],
      "metadata": {
        "id": "tWe2q5UKxcPt"
      }
    },
    {
      "cell_type": "code",
      "execution_count": 1,
      "metadata": {
        "colab": {
          "base_uri": "https://localhost:8080/"
        },
        "id": "AnhSWZxgIatD",
        "outputId": "8f7372bc-7f19-4d34-96bc-195f96c2bf95"
      },
      "outputs": [
        {
          "output_type": "stream",
          "name": "stdout",
          "text": [
            "Hello, World!\n",
            "You're coding in Python\n"
          ]
        }
      ],
      "source": [
        "print(\"Hello, World!\")\n",
        "print(\"You're coding in Python!\")"
      ]
    },
    {
      "cell_type": "markdown",
      "source": [
        "But, if you forget the \"quotation marks\", you will get an error! The code below is incorrect. Can you fix it so that the words *Coding is fun* get printed to the screen?"
      ],
      "metadata": {
        "id": "1YkVxow1yQBr"
      }
    },
    {
      "cell_type": "code",
      "source": [
        "print(Coding is fun)"
      ],
      "metadata": {
        "colab": {
          "base_uri": "https://localhost:8080/",
          "height": 141
        },
        "id": "8pqRm_n-IlFd",
        "outputId": "4775d80b-fe78-4244-c60b-e6773eb6fa43"
      },
      "execution_count": 2,
      "outputs": [
        {
          "output_type": "error",
          "ename": "NameError",
          "evalue": "name 'Coding' is not defined",
          "traceback": [
            "\u001b[0;31m---------------------------------------------------------------------------\u001b[0m",
            "\u001b[0;31mNameError\u001b[0m                                 Traceback (most recent call last)",
            "\u001b[0;32m/tmp/ipython-input-2-1154338161.py\u001b[0m in \u001b[0;36m<cell line: 0>\u001b[0;34m()\u001b[0m\n\u001b[0;32m----> 1\u001b[0;31m \u001b[0mprint\u001b[0m\u001b[0;34m(\u001b[0m\u001b[0mCoding\u001b[0m \u001b[0;32mis\u001b[0m \u001b[0mfun\u001b[0m\u001b[0;34m)\u001b[0m\u001b[0;34m\u001b[0m\u001b[0;34m\u001b[0m\u001b[0m\n\u001b[0m",
            "\u001b[0;31mNameError\u001b[0m: name 'Coding' is not defined"
          ]
        }
      ]
    },
    {
      "cell_type": "markdown",
      "source": [
        "These words that we print in Python have a name. In Python, when words are wrapped in \"quotation marks\", they are called **strings**. A **string** is just a fancy word for text.\n",
        "\n",
        "Examples of strings are:\n",
        "*   \"Hello, World!\"\n",
        "*   \"I am 10 years old\"\n",
        "*   \"abc123\""
      ],
      "metadata": {
        "id": "PSrLioLi0iRB"
      }
    },
    {
      "cell_type": "markdown",
      "source": [
        "### ***Combining Strings***\n",
        "\n",
        "You can put two strings together by putting a **plus sign** (+) between them. You can even do this inside of a print statement!\n",
        "\n",
        "In the code below, the words *Code* and *Ninjas* print in different lines. Can you put the strings together so that they print on the same line?"
      ],
      "metadata": {
        "id": "FmxLggUT3ubT"
      }
    },
    {
      "cell_type": "code",
      "source": [
        "print(\"Code\")\n",
        "print(\"Ninjas\")"
      ],
      "metadata": {
        "colab": {
          "base_uri": "https://localhost:8080/"
        },
        "id": "ub1VcAHm4eb1",
        "outputId": "de98c4ba-f527-4d47-ec09-06d892eaea42"
      },
      "execution_count": 3,
      "outputs": [
        {
          "output_type": "stream",
          "name": "stdout",
          "text": [
            "Code\n",
            "Ninjas\n"
          ]
        }
      ]
    },
    {
      "cell_type": "markdown",
      "source": [
        "Uh oh! You probably printed \"CodeNinjas\" when you put the strings together with a plus sign. Where's the space between the two words?\n",
        "\n",
        "When we put two words together, you need to put a space at the end of the first word, or the beginning of the second word. For example:"
      ],
      "metadata": {
        "id": "CwtJHGad4m2U"
      }
    },
    {
      "cell_type": "code",
      "source": [
        "# no space\n",
        "print(\"Lightning\" + \"McQueen\")\n",
        "\n",
        "# space after first word\n",
        "print(\"Lightning \" + \"McQueen\")\n",
        "\n",
        "# space before second word\n",
        "print(\"Lightning\" + \" McQueen\")"
      ],
      "metadata": {
        "colab": {
          "base_uri": "https://localhost:8080/"
        },
        "id": "8AOMJYle5Zjs",
        "outputId": "be074079-f3fc-4753-c714-a9aeec7b38b2"
      },
      "execution_count": 4,
      "outputs": [
        {
          "output_type": "stream",
          "name": "stdout",
          "text": [
            "LightningMcQueen\n",
            "Lightning McQueen\n",
            "Lightning McQueen\n"
          ]
        }
      ]
    },
    {
      "cell_type": "markdown",
      "source": [
        "Now, try to fix the code below so that you print *Code Ninjas* instead of *CodeNinjas*!"
      ],
      "metadata": {
        "id": "0uMgxnBseD8m"
      }
    },
    {
      "cell_type": "code",
      "source": [
        "print(\"Code\" + \"Ninjas\")"
      ],
      "metadata": {
        "colab": {
          "base_uri": "https://localhost:8080/"
        },
        "id": "SB9wkxEKebsS",
        "outputId": "3ffe1cee-c256-4132-8d14-47b327c0ca27"
      },
      "execution_count": 1,
      "outputs": [
        {
          "output_type": "stream",
          "name": "stdout",
          "text": [
            "CodeNinjas\n"
          ]
        }
      ]
    },
    {
      "cell_type": "markdown",
      "source": [
        "---\n",
        "### **Use your skills!**\n",
        "\n",
        "Now, let's use the skills that we learned to try coding ourselves!\n",
        "\n",
        "First, use a print statement to write a message that you want to tell to your friend!"
      ],
      "metadata": {
        "id": "2oDFIaUHekOE"
      }
    },
    {
      "cell_type": "code",
      "source": [
        "# put your message here!\n"
      ],
      "metadata": {
        "id": "3OrEOzT1fq-4"
      },
      "execution_count": null,
      "outputs": []
    },
    {
      "cell_type": "markdown",
      "source": [
        "Next, your friend tried to write you a message to you, but it doesn't print properly! Can you fix it?"
      ],
      "metadata": {
        "id": "warS7fh2fuHi"
      }
    },
    {
      "cell_type": "code",
      "source": [
        "# fix the code below!\n",
        "print(You're so cool!)"
      ],
      "metadata": {
        "colab": {
          "base_uri": "https://localhost:8080/",
          "height": 106
        },
        "id": "oRUwBKEXf-le",
        "outputId": "8b343b90-e522-4d99-d111-7e638e7bb8a7"
      },
      "execution_count": 2,
      "outputs": [
        {
          "output_type": "error",
          "ename": "SyntaxError",
          "evalue": "unterminated string literal (detected at line 2) (ipython-input-2-3723536023.py, line 2)",
          "traceback": [
            "\u001b[0;36m  File \u001b[0;32m\"/tmp/ipython-input-2-3723536023.py\"\u001b[0;36m, line \u001b[0;32m2\u001b[0m\n\u001b[0;31m    print(You're so cool!)\u001b[0m\n\u001b[0m             ^\u001b[0m\n\u001b[0;31mSyntaxError\u001b[0m\u001b[0;31m:\u001b[0m unterminated string literal (detected at line 2)\n"
          ]
        }
      ]
    },
    {
      "cell_type": "markdown",
      "source": [
        "Finally, put two strings together to print your first and last name together."
      ],
      "metadata": {
        "id": "vp2BaizfgIZU"
      }
    },
    {
      "cell_type": "code",
      "source": [
        "# print your first and last name here!\n"
      ],
      "metadata": {
        "id": "HeJkIwvsgIHw"
      },
      "execution_count": null,
      "outputs": []
    },
    {
      "cell_type": "markdown",
      "source": [
        "### ***Numbers in Python***\n",
        "\n",
        "We can also use numbers in Python! In Python, numbers are called **integers**. With integers, we can do addition (+), subtraction (-), multiplication (*), and division (/)."
      ],
      "metadata": {
        "id": "4IaCC2WNhATV"
      }
    },
    {
      "cell_type": "code",
      "source": [
        "print(6 + 2)\n",
        "print(6 - 2)\n",
        "print(6 * 2)\n",
        "print(6 / 2)"
      ],
      "metadata": {
        "colab": {
          "base_uri": "https://localhost:8080/"
        },
        "id": "fx5yN1O2igxz",
        "outputId": "c11a65bf-e0a5-4d85-af03-0fbc0b869a6d"
      },
      "execution_count": 4,
      "outputs": [
        {
          "output_type": "stream",
          "name": "stdout",
          "text": [
            "8\n",
            "4\n",
            "12\n",
            "3.0\n"
          ]
        }
      ]
    },
    {
      "cell_type": "markdown",
      "source": [
        "Can you find what 125 + 105 is? How about 81 / 9? Or, what about 7 * (6 + 2)? Try coding it below to find out the answers!"
      ],
      "metadata": {
        "id": "KiaA5ydPi_VI"
      }
    },
    {
      "cell_type": "code",
      "source": [
        "# code your math here\n"
      ],
      "metadata": {
        "id": "hiIke0U-kNDV"
      },
      "execution_count": null,
      "outputs": []
    },
    {
      "cell_type": "markdown",
      "source": [
        "# **Variables:** Assigning Variables and How to Use Them"
      ],
      "metadata": {
        "id": "myym1Gv9Eqp6"
      }
    },
    {
      "cell_type": "markdown",
      "source": [
        "### ***What are variables?***\n",
        "\n",
        "**Variables** are used to give names to data so that we can use that data somewhere else in our program. To store data in a variable, we **assign** it to the variable by using an *equals sign* (=). There are some examples in the code below. Try changing the code so that your name and age are stored!"
      ],
      "metadata": {
        "id": "WJVOVHYRJOpY"
      }
    },
    {
      "cell_type": "code",
      "source": [
        "name = \"Tristin\"\n",
        "age = 23\n",
        "difference = 50 - 29"
      ],
      "metadata": {
        "id": "OelALOqpJzeh"
      },
      "execution_count": 6,
      "outputs": []
    },
    {
      "cell_type": "markdown",
      "source": [
        "Variable assignment should always have the following format:\n",
        "\n",
        "*   The *variable name* should always go on the *left* side of the equals sign\n",
        "*   The *value* that you want to set the variable to goes on the *right* side of the equals sign\n",
        "\n",
        "```\n",
        "variable_name = value\n",
        "```"
      ],
      "metadata": {
        "id": "Tg5_n37MNeE-"
      }
    },
    {
      "cell_type": "markdown",
      "source": [
        "### ***Using Variables***\n",
        "\n",
        "After we assign a variable, we can use that variable *anywhere else* in our program by using the variable's name! An important thing about variable names is that they ***cannot*** have any spaces. Instead, you can use an underscore (_) or a dash (-)."
      ],
      "metadata": {
        "id": "yTgtl7e7Oe_p"
      }
    },
    {
      "cell_type": "code",
      "source": [
        "# remember the variables we defined before?\n",
        "print(name)\n",
        "print(age + 1)\n",
        "print(difference)"
      ],
      "metadata": {
        "colab": {
          "base_uri": "https://localhost:8080/"
        },
        "id": "XV7y8dC7O9UI",
        "outputId": "61d06020-f550-4c8a-addd-e747b503a4ba"
      },
      "execution_count": 7,
      "outputs": [
        {
          "output_type": "stream",
          "name": "stdout",
          "text": [
            "Tristin\n",
            "24\n",
            "21\n"
          ]
        }
      ]
    },
    {
      "cell_type": "markdown",
      "source": [
        "There are also 3 other main ways that can use variables.\n",
        "\n",
        "1. Perform a calculation."
      ],
      "metadata": {
        "id": "a3ccr2c4Pald"
      }
    },
    {
      "cell_type": "code",
      "source": [
        "# perform a calculation\n",
        "print(\"Sensei \" + name)\n",
        "print(age + difference)"
      ],
      "metadata": {
        "colab": {
          "base_uri": "https://localhost:8080/"
        },
        "id": "OfWWkmoBPaPV",
        "outputId": "a3a2abe8-3a7f-49c1-9c57-e12a20fdcb51"
      },
      "execution_count": 9,
      "outputs": [
        {
          "output_type": "stream",
          "name": "stdout",
          "text": [
            "Sensei Tristin\n",
            "44\n"
          ]
        }
      ]
    },
    {
      "cell_type": "markdown",
      "source": [
        "2. Compute a new variable. What's the name of the new variable that we created?"
      ],
      "metadata": {
        "id": "B15d1oovP5sw"
      }
    },
    {
      "cell_type": "code",
      "source": [
        "# compute a new variable\n",
        "my_login = \"Sensei\" + name\n",
        "print(my_login)"
      ],
      "metadata": {
        "colab": {
          "base_uri": "https://localhost:8080/"
        },
        "id": "TKnTvQjrP9ka",
        "outputId": "c565c3f9-b1a2-4d5a-f181-7acd47795ff5"
      },
      "execution_count": 10,
      "outputs": [
        {
          "output_type": "stream",
          "name": "stdout",
          "text": [
            "SenseiTristin\n"
          ]
        }
      ]
    },
    {
      "cell_type": "markdown",
      "source": [
        "3. Update a variable by assigning it to a calculation with itself. To update a variable, the variable name should be *BOTH* to the left and to the right of the equals sign."
      ],
      "metadata": {
        "id": "81Qdk7J6Qjw9"
      }
    },
    {
      "cell_type": "code",
      "source": [
        "print(\"This is the first value of the 'difference' variable:\")\n",
        "print(difference)\n",
        "\n",
        "# update a variable\n",
        "difference = difference - 6\n",
        "\n",
        "print(\"After we update it, 'difference' becomes:\")\n",
        "print(difference)"
      ],
      "metadata": {
        "colab": {
          "base_uri": "https://localhost:8080/"
        },
        "id": "Tdt5zU6qRG5f",
        "outputId": "1d57f2b4-4403-4ca9-8825-d9b8fb0369f5"
      },
      "execution_count": 11,
      "outputs": [
        {
          "output_type": "stream",
          "name": "stdout",
          "text": [
            "This is the first value of the 'difference' variable:\n",
            "21\n",
            "After we update it, 'difference' becomes:\n",
            "15\n"
          ]
        }
      ]
    },
    {
      "cell_type": "markdown",
      "source": [
        "### **Use your skills!**\n",
        "\n",
        "Now, let's trying using some of our own variables!\n",
        "\n",
        "First, let's assign a variable 'my_age' to your current age! Remember, variable names can't have any spaces, so we need to use an underscore (_)!"
      ],
      "metadata": {
        "id": "h24UQHNjR6rA"
      }
    },
    {
      "cell_type": "code",
      "source": [
        "# set your 'my_age' variable here\n",
        "# remember the format of assigning variables:\n",
        "# variable_name = value\n"
      ],
      "metadata": {
        "id": "ASbz_XaVTVoD"
      },
      "execution_count": null,
      "outputs": []
    },
    {
      "cell_type": "markdown",
      "source": [
        "Next, we'll use your variable to see how many years older Sensei Tristin is than you (he's pretty old!). Sensei Tristin is 23 years old, so use your 'my_age' variable to subtract your age from 23 and print that number to the screen."
      ],
      "metadata": {
        "id": "MYA2dQ69TpKo"
      }
    },
    {
      "cell_type": "code",
      "source": [
        "# how much older is Sensei Tristin?\n",
        "# you should only need one line of code\n"
      ],
      "metadata": {
        "id": "MI80lDkGUOV7"
      },
      "execution_count": null,
      "outputs": []
    },
    {
      "cell_type": "markdown",
      "source": [
        "Now, let's make a cool password for you. First, let's assign a variable called 'my_name' to a string of your name."
      ],
      "metadata": {
        "id": "d9Nk6EcKUjVz"
      }
    },
    {
      "cell_type": "code",
      "source": [
        "# what's your name?\n"
      ],
      "metadata": {
        "id": "8_pH6hMuUvA8"
      },
      "execution_count": null,
      "outputs": []
    },
    {
      "cell_type": "markdown",
      "source": [
        "Now, we'll compute another variable using your 'my_name' variable. Let's create a new variable called 'password' that combines your name and a *string* of the year that you were born. For example, Sensei Tristin was born in the year 2002, so his password would be 'Tristin2002'."
      ],
      "metadata": {
        "id": "BWsaacylUyU_"
      }
    },
    {
      "cell_type": "code",
      "source": [
        "# create your new password variable here!\n",
        "# remember that your year needs to be a STRING, not an integer\n"
      ],
      "metadata": {
        "id": "OSIGNQ32vuo6"
      },
      "execution_count": null,
      "outputs": []
    },
    {
      "cell_type": "markdown",
      "source": [
        "You're almost done! The website that you're creating a password for also needs to have some punctuation symbols. So, at the end of our password, we're going to add a winky smiley face! ;) Update your 'password' variable to include the winky smiley face at the end of your password."
      ],
      "metadata": {
        "id": "Sa432-Glvyvb"
      }
    },
    {
      "cell_type": "code",
      "source": [
        "# update your password here!\n",
        "# ;)"
      ],
      "metadata": {
        "id": "lKyc9EsEvydA"
      },
      "execution_count": null,
      "outputs": []
    },
    {
      "cell_type": "markdown",
      "source": [
        "Use the print statement below to check if your password works as expected!"
      ],
      "metadata": {
        "id": "4F8r_enawzcS"
      }
    },
    {
      "cell_type": "code",
      "source": [
        "print(\"Sensei Tristin's password is Tristin2002;)\")\n",
        "print(\"Your password is\", password)"
      ],
      "metadata": {
        "id": "rrQkcLtVw6X0"
      },
      "execution_count": null,
      "outputs": []
    },
    {
      "cell_type": "markdown",
      "source": [
        "---\n",
        "\n",
        "# **Inputs:** The *input* function and customizing programs"
      ],
      "metadata": {
        "id": "yc_QLcoFyZ9y"
      }
    },
    {
      "cell_type": "markdown",
      "source": [
        "To ask the player to type in an input for our program to use, we need to use the **input** function! To use the input function, we should:\n",
        "\n",
        "* Put the question we want to ask inside of the brackets of the function\n",
        "* Wrap the question in \"quotation marks\"\n",
        "* **Remember to include a space at the end of the question!**\n",
        "\n",
        "When we play our program, the player will be asked this question and will be able to type their answer."
      ],
      "metadata": {
        "id": "i1qrH0VkyvVe"
      }
    },
    {
      "cell_type": "code",
      "source": [
        "# ALWAYS remember the space!\n",
        "input(\"What's your favourite colour? \")\n",
        "\n",
        "# if you forget it, your question will look funny!\n",
        "input(\"What's your favourite candy?\")"
      ],
      "metadata": {
        "colab": {
          "base_uri": "https://localhost:8080/",
          "height": 70
        },
        "id": "JHq71kUmnCHv",
        "outputId": "190d437f-e76e-46f8-d7e8-8434a5132f71"
      },
      "execution_count": 2,
      "outputs": [
        {
          "name": "stdout",
          "output_type": "stream",
          "text": [
            "What's your favourite colour? orange\n",
            "What's your favourite candy?Reese's Pieces\n"
          ]
        },
        {
          "output_type": "execute_result",
          "data": {
            "text/plain": [
              "\"Reese's Pieces\""
            ],
            "application/vnd.google.colaboratory.intrinsic+json": {
              "type": "string"
            }
          },
          "metadata": {},
          "execution_count": 2
        }
      ]
    },
    {
      "cell_type": "markdown",
      "source": [
        "To use the player's inputs in our programs, we need to save them in a variable! Remember the format for storing data into a variable?\n",
        "\n",
        "```\n",
        "variable_name = value\n",
        "```\n",
        "\n",
        "When storing user inputs into variables, the entire input statement should go to the right of the equals sign. Then, after storing the input into a variable, you can use it just like any other variable we learned about!"
      ],
      "metadata": {
        "id": "uMCRDw9KoC5B"
      }
    },
    {
      "cell_type": "code",
      "source": [
        "game = input(\"What's your favourite video game? \")\n",
        "print(\"My favourite game is \" + game + \" too!\")"
      ],
      "metadata": {
        "colab": {
          "base_uri": "https://localhost:8080/"
        },
        "id": "109dGVt9orW6",
        "outputId": "636ab05c-b945-485f-a758-e244d0e06bdf"
      },
      "execution_count": 3,
      "outputs": [
        {
          "output_type": "stream",
          "name": "stdout",
          "text": [
            "What's your favourite video game? Mario Bros.\n",
            "My favourite game is Mario Bros. too!\n"
          ]
        }
      ]
    },
    {
      "cell_type": "markdown",
      "source": [
        "Now, it's time to start our first project, *Mad Libs*!"
      ],
      "metadata": {
        "id": "C1xgCcYup-Xd"
      }
    }
  ]
}