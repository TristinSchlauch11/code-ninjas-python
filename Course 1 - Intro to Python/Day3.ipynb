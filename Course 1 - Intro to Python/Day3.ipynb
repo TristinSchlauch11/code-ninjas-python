{
  "nbformat": 4,
  "nbformat_minor": 0,
  "metadata": {
    "colab": {
      "provenance": []
    },
    "kernelspec": {
      "name": "python3",
      "display_name": "Python 3"
    },
    "language_info": {
      "name": "python"
    }
  },
  "cells": [
    {
      "cell_type": "markdown",
      "source": [
        "# **Loops**: for and while loops"
      ],
      "metadata": {
        "id": "DKyBQcBKlat0"
      }
    },
    {
      "cell_type": "markdown",
      "source": [
        "### ***The for loop***\n",
        "\n",
        "Welcome back! Today is our last day of the Intro to Python camp! Today, we'll learn about loops and functions.\n",
        "\n",
        "First, we'll talk about the **for** loop. There are two main reasons that we want to use a for loop:\n",
        "\n",
        "1. We want to run a certain section of code and repeat it a *specific number of times*.\n",
        "2. We want to run a certain section of code for *every element in a list*.\n",
        "\n",
        "We'll focus more on reason #2. To use a *for* loop that runs a certain section of code for every element in a list, we need to use:\n",
        "\n",
        "* the word **for**,\n",
        "* a variable name (you pick this!),\n",
        "* the word 'in',\n",
        "* the name of the list,\n",
        "* a colon (:), and\n",
        "* the code that you want to repeat\n",
        "\n",
        "Just like an if-elif-else statement, the code that you want to repeat must be indented away from the rest of your code. So, the *for* loop has the following format:\n",
        "\n",
        "```\n",
        "for var_name in list_name:\n",
        "  # code to repeat\n",
        "```\n",
        "\n",
        "For example:"
      ],
      "metadata": {
        "id": "52TvL9n7lmU7"
      }
    },
    {
      "cell_type": "code",
      "execution_count": null,
      "metadata": {
        "colab": {
          "base_uri": "https://localhost:8080/"
        },
        "id": "XV9KeJQ9i8CF",
        "outputId": "42775ef9-5bc1-4de2-822b-c6776a324b9b"
      },
      "outputs": [
        {
          "output_type": "stream",
          "name": "stdout",
          "text": [
            "My\n",
            "name\n",
            "is\n",
            "Sensei\n",
            "Tristin\n"
          ]
        }
      ],
      "source": [
        "# create a list\n",
        "words = [\"My\", \"name\", \"is\", \"Sensei\", \"Tristin\"]\n",
        "\n",
        "# use a for loop to print all the words\n",
        "for word in words:\n",
        "  print(word)"
      ]
    },
    {
      "cell_type": "markdown",
      "source": [
        "Every time that the code in the for loop starts, the variable that you use in your loop is updated to be the next element in the list.\n",
        "\n",
        "So, in the above example, we start the loop by setting the variable 'word' to be the first element in the list 'words', which is \"My\". Then, we use a print statement to print this word to the screen. Next, when the loop restarts, we update the variable 'word' to be the next element in the list 'words', which is \"name\". Then, we print this word, then update the variable 'word' to the next element in 'words', \"is\". This continues until we go through every element in the list.\n",
        "\n",
        "Now, let's try printing all of the words together on the same line. Try finishing the code below so that you print \"Code Ninjas is the best! \"."
      ],
      "metadata": {
        "id": "OxCS-rf3z4qf"
      }
    },
    {
      "cell_type": "code",
      "source": [
        "# words to use and empty string\n",
        "words = [\"Code\", \"Ninjas\", \"is\", \"the\", \"best!\"]\n",
        "message = \"\"\n",
        "\n",
        "# use a for-loop to add all words to the message\n",
        "for word in words:\n",
        "  # code here!\n",
        "\n",
        "\n",
        "# check to see if your message is printed right\n",
        "print(message)"
      ],
      "metadata": {
        "id": "qWC5LBHq1ZFR"
      },
      "execution_count": null,
      "outputs": []
    },
    {
      "cell_type": "markdown",
      "source": [
        "### ***The while loop***\n",
        "\n",
        "A while loop can be used to run a certain section of code continuously *while* a specified Boolean condition is True. To run a while loop, we need:\n",
        "\n",
        "* the word **while**,\n",
        "* a Boolean condition (just like in an if or elif-statement),\n",
        "* a colon (:), and\n",
        "* the code to run while the condition is True\n",
        "\n",
        "This code also needs to be indented away from the rest of your code. It has the following format:\n",
        "\n",
        "```\n",
        "while condition:\n",
        "  # code to run while condition is True\n",
        "```\n",
        "\n",
        "For example:"
      ],
      "metadata": {
        "id": "EaHgsp7_4s0Y"
      }
    },
    {
      "cell_type": "code",
      "source": [
        "lives_left = 3\n",
        "\n",
        "# print the number of lives we have left until we lose all of our lives\n",
        "while lives_left > 0:\n",
        "  print(\"You have \" + str(lives_left) + \" lives left.\")\n",
        "  lives_left = lives_left - 1\n",
        "\n",
        "print(\"You're out of lives!\")"
      ],
      "metadata": {
        "colab": {
          "base_uri": "https://localhost:8080/"
        },
        "id": "PLZ3MGAJ7KB4",
        "outputId": "a9485ee2-e40b-42ae-ea5c-4f10b822f5b2"
      },
      "execution_count": null,
      "outputs": [
        {
          "output_type": "stream",
          "name": "stdout",
          "text": [
            "You have 3 lives left.\n",
            "You have 2 lives left.\n",
            "You have 1 lives left.\n",
            "You're out of lives!\n"
          ]
        }
      ]
    },
    {
      "cell_type": "markdown",
      "source": [
        "Every time that the code in the while loop starts, the program checks to see if the Boolean condition is True. If it is True, the code in the while loop will run again. But, if it is False (even if it is the first time checking it), the code stops running.\n",
        "\n",
        "In our example above, the program checks if lives_left (which is 3) is greater than 0. Since it is, we print \"You have 3 lives left.\", then updates lives_left to be 3-1 = 2. Then, when the loop starts again, it checks if lives_left (which is 2) is greater than 0. Since it is, it prints a message and updates the variable again. This continues until the condition 'lives_left > 0' is False.\n",
        "\n",
        "**Make sure that your Boolean condition will eventually become False! Otherwise, our while loop will run forever......**\n",
        "\n",
        "Now, let's code a while loop that prints the first five numbers (1, 2, 3, 4, and 5). Some of the code has been started for you, let's finish it off!"
      ],
      "metadata": {
        "id": "OILrB4EY73Rg"
      }
    },
    {
      "cell_type": "code",
      "source": [
        "# use the variable x to help you!\n",
        "x = 1\n",
        "\n",
        "# use a while loop to print the first five numbers (1, 2, 3, 4, 5)\n",
        "while\n",
        "\n"
      ],
      "metadata": {
        "id": "NN1pQLFo-jZ9"
      },
      "execution_count": null,
      "outputs": []
    },
    {
      "cell_type": "markdown",
      "source": [
        "# **Functions**: Defining and calling functions, parameters, and **return**"
      ],
      "metadata": {
        "id": "6BcO5ERNQZ1X"
      }
    },
    {
      "cell_type": "markdown",
      "source": [
        "### ***Defining and Calling Functions***\n",
        "\n",
        "**Functions** are special sections of code that we give a name to so that we can use them anywhere else in our program. To create a function, we need to **define** it by using the following:\n",
        "\n",
        "* the word 'def' (which stands for define),\n",
        "* the function name,\n",
        "* a pair of brackets (),\n",
        "* a colon, and\n",
        "* the code to run in the function\n",
        "\n",
        "The code that we run in the function also has to be indented away from the rest of our code. So, functions have the following format:\n",
        "\n",
        "```\n",
        "def func_name():\n",
        "  # code to run in the function\n",
        "```\n",
        "\n",
        "So, for example:"
      ],
      "metadata": {
        "id": "nXCWG02I_iaK"
      }
    },
    {
      "cell_type": "code",
      "source": [
        "def print_hello():\n",
        "  print(\"Hello, World!\")"
      ],
      "metadata": {
        "id": "YcEg1ZBC_iMF"
      },
      "execution_count": null,
      "outputs": []
    },
    {
      "cell_type": "markdown",
      "source": [
        "After we define a function, we can use the code in it by **calling** the function wherever we want to use it. To call a function, we use:\n",
        "\n",
        "* the function's name, and\n",
        "* a pair of brackets ()\n",
        "\n",
        "Calling a function has the following format:\n",
        "\n",
        "```\n",
        "func_name()\n",
        "```\n",
        "\n",
        "Using the function that we defined above as an example:"
      ],
      "metadata": {
        "id": "WqozYUprRh_7"
      }
    },
    {
      "cell_type": "code",
      "source": [
        "print_hello()"
      ],
      "metadata": {
        "colab": {
          "base_uri": "https://localhost:8080/"
        },
        "id": "9Vagm5zIRjyp",
        "outputId": "56992c2d-e318-4b94-dc34-3d4b06e3b762"
      },
      "execution_count": null,
      "outputs": [
        {
          "output_type": "stream",
          "name": "stdout",
          "text": [
            "Hello, World!\n"
          ]
        }
      ]
    },
    {
      "cell_type": "markdown",
      "source": [
        "Now, let's create our own function! Let's create a function called 'print_name' that simply prints: \"Hello, my name is (insert your name)\". For Sensei Tristin, his 'print_name' function should print \"Hello, my name is Sensei Tristin\"."
      ],
      "metadata": {
        "id": "kI4haUIWR5tp"
      }
    },
    {
      "cell_type": "code",
      "source": [
        "# create your print_name function here!\n",
        "# remember the format for defining a function?\n"
      ],
      "metadata": {
        "id": "h8vO7qX1STav"
      },
      "execution_count": null,
      "outputs": []
    },
    {
      "cell_type": "markdown",
      "source": [
        "Now, let's call our function! Print your message to the screen!"
      ],
      "metadata": {
        "id": "xRK23fraSaYO"
      }
    },
    {
      "cell_type": "code",
      "source": [
        "# call your 'print_name' function!\n",
        "# do you remember the format?\n"
      ],
      "metadata": {
        "id": "jX9TbLB7Stkm"
      },
      "execution_count": null,
      "outputs": []
    },
    {
      "cell_type": "markdown",
      "source": [
        "### ***Parameters and Arguments***\n",
        "\n",
        "Usually when we use a function, we want to provide some information to the function for it to use. We can define a special kind a variable called a **parameter** that can only be used by the function that they are defined in.\n",
        "\n",
        "To define a parameter, put the parameter's name inside of the brackets of the function definition. A function can have as many parameters as you want. If you have more than one parameter, you need to separate them with a comma.\n",
        "\n",
        "```\n",
        "def func_name(param1, param2, ...):\n",
        "  # code to run in function\n",
        "```\n",
        "\n",
        "For example:"
      ],
      "metadata": {
        "id": "qHHrffQ8TPOW"
      }
    },
    {
      "cell_type": "code",
      "source": [
        "# this function has 3 parameters\n",
        "def add_em_up(num1, num2, num3):\n",
        "  print(num1 + num2 + num3)"
      ],
      "metadata": {
        "id": "Sq1R7MIlVeLv"
      },
      "execution_count": null,
      "outputs": []
    },
    {
      "cell_type": "markdown",
      "source": [
        "But now that our function can use this information, how can we actually give this information to our functions to use? When we call our function, we give the information to the function by using something called **arguments**. To use arguments, when we call a function, type the values that we want to assign our parameters to between the brackets.\n",
        "\n",
        "```\n",
        "func_name(arg1, arg2, ...)\n",
        "```\n",
        "\n",
        "When we use these arguments, the first argument in our function call will be assigned to the first parameter in our function, the second argument will be assigned to the second parameter, and so on. It's the same thing as saying:\n",
        "\n",
        "```\n",
        "param1 = arg1\n",
        "param2 = arg2\n",
        "...\n",
        "```\n",
        "\n",
        "As an example:"
      ],
      "metadata": {
        "id": "92GeKAaYXKQ9"
      }
    },
    {
      "cell_type": "code",
      "source": [
        "add_em_up(9, 3, 5)"
      ],
      "metadata": {
        "colab": {
          "base_uri": "https://localhost:8080/"
        },
        "id": "Xwq5KBelYukh",
        "outputId": "a7b16f83-b011-487c-e289-3f6216c76068"
      },
      "execution_count": null,
      "outputs": [
        {
          "output_type": "stream",
          "name": "stdout",
          "text": [
            "17\n"
          ]
        }
      ]
    },
    {
      "cell_type": "markdown",
      "source": [
        "When we call this function, the arguments 9, 3, and 5, are assigned to the parameters num1, num2, and num3. We set num1 = 9, num2 = 3, and num3 = 5.\n",
        "\n",
        "Now, let's change our name printing function a little bit. Instead of printing only your name, let's include a parameter so that anybody can use it! Write a function called 'new_print_name' that has a parameter called 'name' that prints \"Hello, my name is \" and the person's name."
      ],
      "metadata": {
        "id": "UVb86KBkY3II"
      }
    },
    {
      "cell_type": "code",
      "source": [
        "# write your 'new_print_name' function here!\n",
        "# remember to use a 'name' parameter!\n"
      ],
      "metadata": {
        "id": "mTOopdpubMgF"
      },
      "execution_count": null,
      "outputs": []
    },
    {
      "cell_type": "markdown",
      "source": [
        "After you write your function, try testing it by calling it and using different name strings as arguments! Don't forget the quotation marks!"
      ],
      "metadata": {
        "id": "G9t4xr68bWZe"
      }
    },
    {
      "cell_type": "code",
      "source": [
        "# try calling your new function here\n",
        "# try using some different names too!\n"
      ],
      "metadata": {
        "id": "vmy8JXwAbhgK"
      },
      "execution_count": null,
      "outputs": []
    },
    {
      "cell_type": "markdown",
      "source": [
        "We also usually want to use a function to calculate a value that can be used by our program. To do this, we use a **return** statement to allow our function to *return* a value back to where the function was called from. To use a return statement, we use:\n",
        "\n",
        "* the word **return**, and\n",
        "* the value or variable whose value we want to return\n",
        "\n",
        "Typically, the return statement will go at the end of the function. As an example, we can change the add_em_up function to *return* the sum of the 3 numbers instead of just printing it:"
      ],
      "metadata": {
        "id": "4yqXuMlfboro"
      }
    },
    {
      "cell_type": "code",
      "source": [
        "def add_em_up(num1, num2, num3):\n",
        "  total = num1 + num2 + num3\n",
        "  return total"
      ],
      "metadata": {
        "id": "pmHmbIH7ggvw"
      },
      "execution_count": null,
      "outputs": []
    },
    {
      "cell_type": "markdown",
      "source": [
        "Like an input statement, you also need to assign the value that is returned by the function to a variable so that you can use it later."
      ],
      "metadata": {
        "id": "O9N4cZkSgvnY"
      }
    },
    {
      "cell_type": "code",
      "source": [
        "# assign the returned value to the variable 'added'\n",
        "added = add_em_up(7, 2, 3)\n",
        "print(\"The sum is \" + str(added))"
      ],
      "metadata": {
        "colab": {
          "base_uri": "https://localhost:8080/"
        },
        "id": "t0wTLNsKg-m5",
        "outputId": "37ac5896-19a2-461e-d9ac-80808bf7ead8"
      },
      "execution_count": null,
      "outputs": [
        {
          "output_type": "stream",
          "name": "stdout",
          "text": [
            "The sum is 12\n"
          ]
        }
      ]
    },
    {
      "cell_type": "markdown",
      "source": [
        "And that's it! We've finished the Intro to Python camp! It's time to work on our final projects!"
      ],
      "metadata": {
        "id": "K6Mbt371hZni"
      }
    }
  ]
}